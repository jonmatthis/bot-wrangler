{
  "cells": [
    {
      "cell_type": "markdown",
      "metadata": {
        "id": "QFTi1HFe3Vxf"
      },
      "source": [
        "<img src=\"https://fsdl.me/logo-720-dark-horizontal\">"
      ]
    },
    {
      "cell_type": "markdown",
      "metadata": {
        "id": "_jgVeBh73WBf"
      },
      "source": [
        "This notebook accompanies [this YouTube video](https://www.youtube.com/watch?v=zaYTXQFR0_s)\n",
        "walking through what LangChain is and interviewing the creator, Harrison Chase."
      ]
    },
    {
      "cell_type": "markdown",
      "metadata": {
        "id": "t8Loy7nBuu-8"
      },
      "source": [
        "## Auth"
      ]
    },
    {
      "cell_type": "code",
      "execution_count": null,
      "metadata": {
        "colab": {
          "base_uri": "https://localhost:8080/"
        },
        "id": "lQFKCcwUDkCX",
        "outputId": "6aebf7b9-234d-443d-f6b3-75a6a8cd12cc"
      },
      "outputs": [],
      "source": [
        "%pip install -qqq langchain openai\n",
        "%pip install -qqq beautifulsoup4\n",
        "%pip install -qqq unstructured\n",
        "%pip install -qqq tiktoken\n",
        "%pip install -qqq faiss-cpu"
      ]
    },
    {
      "cell_type": "code",
      "execution_count": 1,
      "metadata": {
        "colab": {
          "base_uri": "https://localhost:8080/"
        },
        "id": "8lTk21-dEYyy",
        "outputId": "356ef28a-a043-425c-9263-29fa9256fd2b"
      },
      "outputs": [],
      "source": [
        "import os\n",
        "from dotenv import load_dotenv\n",
        "load_dotenv()\n",
        "\n",
        "#set up for tracing\n",
        "os.environ[\"LANGCHAIN_HANDLER\"] = \"langchain\""
      ]
    },
    {
      "cell_type": "markdown",
      "metadata": {
        "id": "HWAHHIX0uv_U"
      },
      "source": [
        "## LLMs without context are internet simulators, which aren't always useful"
      ]
    },
    {
      "cell_type": "code",
      "execution_count": 3,
      "metadata": {
        "colab": {
          "base_uri": "https://localhost:8080/"
        },
        "id": "cji3wFebEToO",
        "outputId": "1a380af0-26ce-4a3e-c444-654f3eda8b21"
      },
      "outputs": [],
      "source": [
        "from langchain.chat_models import ChatOpenAI\n",
        "\n",
        "llm = OpenAI(model_name=\"gpt-4\", temperature=0)"
      ]
    },
    {
      "cell_type": "code",
      "execution_count": 4,
      "metadata": {
        "colab": {
          "base_uri": "https://localhost:8080/"
        },
        "id": "gfNebGXBFdjM",
        "outputId": "9235cb2e-e6a0-4382-a4d3-64e5b822f7a2"
      },
      "outputs": [
        {
          "name": "stdout",
          "output_type": "stream",
          "text": [
            "FreeMoCap is an open-source motion capture system that uses low-cost\n",
            "hardware and computer vision algorithms to track human motion. It is\n",
            "designed to be accessible and affordable for researchers, artists, and\n",
            "hobbyists. The system can provide real-time motion capture data,\n",
            "depending on the hardware and software setup used.  FreeMoCap was\n",
            "created by a team of researchers and developers led by Dr. Talmo\n",
            "Pereira, a postdoctoral researcher at Princeton Neuroscience\n",
            "Institute. The project is hosted on GitHub and is continuously being\n",
            "updated and improved by its contributors.\n"
          ]
        }
      ],
      "source": [
        "import textwrap\n",
        "\n",
        "print(\"\\n\".join(textwrap.wrap(llm(\"What is FreeMoCap Does it have real-time? who made it?\").strip())))"
      ]
    },
    {
      "cell_type": "markdown",
      "metadata": {
        "id": "hrLKp46nzsxM"
      },
      "source": [
        "### Scrape the docs into text"
      ]
    },
    {
      "cell_type": "code",
      "execution_count": 8,
      "metadata": {
        "id": "2J-XWbFHC4yv"
      },
      "outputs": [
        {
          "data": {
            "text/plain": [
              "<Response [200]>"
            ]
          },
          "execution_count": 8,
          "metadata": {},
          "output_type": "execute_result"
        }
      ],
      "source": [
        "toplevel = \"https://freemocap.readthedocs.io/en/latest\"\n",
        "\n",
        "response = requests.get(toplevel)\n",
        "response"
      ]
    },
    {
      "cell_type": "code",
      "execution_count": 9,
      "metadata": {
        "colab": {
          "base_uri": "https://localhost:8080/"
        },
        "id": "s0TeXe-J6FDt",
        "outputId": "2679f161-dbf6-46e5-fbd1-80f71f00c5dc"
      },
      "outputs": [
        {
          "name": "stdout",
          "output_type": "stream",
          "text": [
            "<!DOCTYPE html>\n",
            "<html class=\"no-js\" lang=\"en\">\n",
            " <head>\n",
            "  <meta charset=\"utf-8\"/>\n",
            "  <meta content=\"width=device-width,initial-scale=1\" name=\"viewport\"/>\n",
            "  <link href=\"about_us/\" rel=\"next\"/>\n",
            "  <link href=\"assets/skelly_freemocap_favicon.ico\" rel=\"icon\"/>\n",
            "  <meta content=\"mkdocs-1.4.2, mkdocs-material-9.1.5\" name=\"generator\"/>\n",
            "  <title>\n",
            "   FreeMoCap Documentation\n",
            "  </title>\n",
            "  <link href=\"assets/stylesheets/main.7a7fce14.min.css\" rel=\"stylesheet\"/>\n",
            "  <link href=\"assets/stylesheets/palette.a0c5b2b5.min.css\" rel=\"stylesheet\"/>\n",
            "  <link crossorigin=\"\" href=\"https://fonts.gstatic.com\" rel=\"preconnect\"/>\n",
            "  <link href=\"https://fonts.googleapis.com/css?family=Roboto:300,300i,400,400i,700,700i%7CRoboto+Mono:400,400i,700,700i&amp;display=fallback\" rel=\"stylesheet\"/>\n",
            "  <style>\n",
            "   :root{--md-text-font:\"Roboto\";--md-code-font:\"Roboto Mono\"}\n",
            "  </style>\n",
            "  <link href=\"stylesheets/extra.css\" rel=\"stylesheet\"/>\n",
            "  <link href=\"/_/static/css/badge_only.css\" rel=\"stylesheet\"/>\n",
            "  <link href=\"/_/static/css/readthedocs-doc-embed.css\" rel=\"stylesheet\"/>\n",
            "  <script>\n",
            "   __md_scope=new URL(\".\",location),__md_hash=e=>[...e].reduce((e,_)=>(e<<5)-e+_.charCodeAt(0),0),__md_get=(e,_=localStorage,t=__md_scope)=>JSON.parse(_.getItem(t.pathname+\".\"+e)),__md_set=(e,_,t=localStorage,a=__md_scope)=>{try{t.setItem(a.pathname+\".\"+e,JSON.stringify(_))}catch(e){}}\n",
            "  </script>\n",
            " </head>\n",
            " <body data-md-color-accent=\"\" data-md-color-primary=\"\" data-md-color-scheme=\"default\" dir=\"ltr\">\n",
            "  <input autocomplete=\"off\" class=\"md-toggle\" data-md-toggle=\"drawer\" id=\"__drawer\" type=\"checkbox\"/>\n",
            "  <input autocomplete=\"off\" class=\"md-toggle\" data-md-toggle=\"search\" id=\"__search\" type=\"checkbox\"/>\n",
            "  <label class=\"md-overlay\" for=\"__drawer\">\n",
            "  </label>\n",
            "  <div data-md-component=\"skip\">\n",
            "   <a class=\"md-skip\" href=\"#welcome-skele-friend\">\n",
            "    Skip to content\n",
            "   </a>\n",
            "  </div>\n",
            "  <div data-md-component=\"announce\">\n",
            "  </div>\n",
            "  <header class=\"md-header\" data-md-component=\"header\">\n",
            "   <nav aria-label=\"Header\" class=\"md-header__inner md-grid\">\n",
            "    <a aria-label=\"FreeMoCap Documentation\" class=\"md-header__button md-logo\" data-md-component=\"logo\" href=\".\" title=\"FreeMoCap Documentation\">\n",
            "     <img alt=\"logo\" src=\"assets/fmc-logo-transparent-bkgd.png\"/>\n",
            "    </a>\n",
            "    <label class=\"md-header__button md-icon\" for=\"__drawer\">\n",
            "     <svg viewbox=\"0 0 24 24\" xmlns=\"http://www.w3.org/2000/svg\">\n",
            "      <path d=\"M3 6h18v2H3V6m0 5h18v2H3v-2m0 5h18v2H3v-2Z\">\n",
            "      </path>\n",
            "     </svg>\n",
            "    </label>\n",
            "    <div class=\"md-header__title\" data-md-component=\"header-title\">\n",
            "     <div class=\"md-header__ellipsis\">\n",
            "      <div class=\"md-header__topic\">\n",
            "       <span class=\"md-ellipsis\">\n",
            "        FreeMoCap Documentation\n",
            "       </span>\n",
            "      </div>\n",
            "      <div class=\"md-header__topic\" data-md-component=\"header-topic\">\n",
            "       <span class=\"md-ellipsis\">\n",
            "        Welcome Skele-Friend! 💀✨\n",
            "       </span>\n",
            "      </div>\n",
            "     </div>\n",
            "    </div>\n",
            "    <label class=\"md-header__button md-icon\" for=\"__search\">\n",
            "     <svg viewbox=\"0 0 24 24\" xmlns=\"http://www.w3.org/2000/svg\">\n",
            "      <path d=\"M9.5 3A6.5 6.5 0 0 1 16 9.5c0 1.61-.59 3.09-1.56 4.23l.27.27h.79l5 5-1.5 1.5-5-5v-.79l-.27-.27A6.516 6.516 0 0 1 9.5 16 6.5 6.5 0 0 1 3 9.5 6.5 6.5 0 0 1 9.5 3m0 2C7 5 5 7 5 9.5S7 14 9.5 14 14 12 14 9.5 12 5 9.5 5Z\">\n",
            "      </path>\n",
            "     </svg>\n",
            "    </label>\n",
            "    <div class=\"md-search\" data-md-component=\"search\" role=\"dialog\">\n",
            "     <label class=\"md-search__overlay\" for=\"__search\">\n",
            "     </label>\n",
            "     <div class=\"md-search__inner\" role=\"search\">\n",
            "      <form class=\"md-search__form\" name=\"search\">\n",
            "       <input aria-label=\"Search\" autocapitalize=\"off\" autocomplete=\"off\" autocorrect=\"off\" class=\"md-search__input\" data-md-component=\"search-query\" name=\"query\" placeholder=\"Search\" required=\"\" spellcheck=\"false\" type=\"text\"/>\n",
            "       <label class=\"md-search__icon md-icon\" for=\"__search\">\n",
            "        <svg viewbox=\"0 0 24 24\" xmlns=\"http://www.w3.org/2000/svg\">\n",
            "         <path d=\"M9.5 3A6.5 6.5 0 0 1 16 9.5c0 1.61-.59 3.09-1.56 4.23l.27.27h.79l5 5-1.5 1.5-5-5v-.79l-.27-.27A6.516 6.516 0 0 1 9.5 16 6.5 6.5 0 0 1 3 9.5 6.5 6.5 0 0 1 9.5 3m0 2C7 5 5 7 5 9.5S7 14 9.5 14 14 12 14 9.5 12 5 9.5 5Z\">\n",
            "         </path>\n",
            "        </svg>\n",
            "        <svg viewbox=\"0 0 24 24\" xmlns=\"http://www.w3.org/2000/svg\">\n",
            "         <path d=\"M20 11v2H8l5.5 5.5-1.42 1.42L4.16 12l7.92-7.92L13.5 5.5 8 11h12Z\">\n",
            "         </path>\n",
            "        </svg>\n",
            "       </label>\n",
            "       <nav aria-label=\"Search\" class=\"md-search__options\">\n",
            "        <button aria-label=\"Clear\" class=\"md-search__icon md-icon\" tabindex=\"-1\" title=\"Clear\" type=\"reset\">\n",
            "         <svg viewbox=\"0 0 24 24\" xmlns=\"http://www.w3.org/2000/svg\">\n",
            "          <path d=\"M19 6.41 17.59 5 12 10.59 6.41 5 5 6.41 10.59 12 5 17.59 6.41 19 12 13.41 17.59 19 19 17.59 13.41 12 19 6.41Z\">\n",
            "          </path>\n",
            "         </svg>\n",
            "        </button>\n",
            "       </nav>\n",
            "      </form>\n",
            "      <div class=\"md-search__output\">\n",
            "       <div class=\"md-search__scrollwrap\" data-md-scrollfix=\"\">\n",
            "        <div class=\"md-search-result\" data-md-component=\"search-result\">\n",
            "         <div class=\"md-search-result__meta\">\n",
            "          Initializing search\n",
            "         </div>\n",
            "         <ol class=\"md-search-result__list\" role=\"presentation\">\n",
            "         </ol>\n",
            "        </div>\n",
            "       </div>\n",
            "      </div>\n",
            "     </div>\n",
            "    </div>\n",
            "   </nav>\n",
            "  </header>\n",
            "  <div class=\"md-container\" data-md-component=\"container\">\n",
            "   <nav aria-label=\"Tabs\" class=\"md-tabs\" data-md-component=\"tabs\">\n",
            "    <div class=\"md-grid\">\n",
            "     <ul class=\"md-tabs__list\">\n",
            "      <li class=\"md-tabs__item\">\n",
            "       <a class=\"md-tabs__link md-tabs__link--active\" href=\".\">\n",
            "        Welcome Skele-Friend! 💀✨\n",
            "       </a>\n",
            "      </li>\n",
            "      <li class=\"md-tabs__item\">\n",
            "       <a class=\"md-tabs__link\" href=\"about_us/\">\n",
            "        About Us\n",
            "       </a>\n",
            "      </li>\n",
            "      <li class=\"md-tabs__item\">\n",
            "       <a class=\"md-tabs__link\" href=\"how_to_guides/\">\n",
            "        \"How to\" Guides\n",
            "       </a>\n",
            "      </li>\n",
            "      <li class=\"md-tabs__item\">\n",
            "       <a class=\"md-tabs__link\" href=\"terminology/terminology/\">\n",
            "        Terminology\n",
            "       </a>\n",
            "      </li>\n",
            "      <li class=\"md-tabs__item\">\n",
            "       <a class=\"md-tabs__link\" href=\"roadmap/roadmap/\">\n",
            "        Roadmap\n",
            "       </a>\n",
            "      </li>\n",
            "      <li class=\"md-tabs__item\">\n",
            "       <a class=\"md-tabs__link\" href=\"privacy_policy/\">\n",
            "        Privacy Policy\n",
            "       </a>\n",
            "      </li>\n",
            "     </ul>\n",
            "    </div>\n",
            "   </nav>\n",
            "   <main class=\"md-main\" data-md-component=\"main\">\n",
            "    <div class=\"md-main__inner md-grid\">\n",
            "     <div class=\"md-sidebar md-sidebar--primary\" data-md-component=\"sidebar\" data-md-type=\"navigation\">\n",
            "      <div class=\"md-sidebar__scrollwrap\">\n",
            "       <div class=\"md-sidebar__inner\">\n",
            "        <nav aria-label=\"Navigation\" class=\"md-nav md-nav--primary md-nav--lifted\" data-md-level=\"0\">\n",
            "         <label class=\"md-nav__title\" for=\"__drawer\">\n",
            "          <a aria-label=\"FreeMoCap Documentation\" class=\"md-nav__button md-logo\" data-md-component=\"logo\" href=\".\" title=\"FreeMoCap Documentation\">\n",
            "           <img alt=\"logo\" src=\"assets/fmc-logo-transparent-bkgd.png\"/>\n",
            "          </a>\n",
            "          FreeMoCap Documentation\n",
            "         </label>\n",
            "         <ul class=\"md-nav__list\" data-md-scrollfix=\"\">\n",
            "          <li class=\"md-nav__item md-nav__item--active\">\n",
            "           <input class=\"md-nav__toggle md-toggle\" id=\"__toc\" type=\"checkbox\"/>\n",
            "           <label class=\"md-nav__link md-nav__link--active\" for=\"__toc\">\n",
            "            Welcome Skele-Friend! 💀✨\n",
            "            <span class=\"md-nav__icon md-icon\">\n",
            "            </span>\n",
            "           </label>\n",
            "           <a class=\"md-nav__link md-nav__link--active\" href=\".\">\n",
            "            Welcome Skele-Friend! 💀✨\n",
            "           </a>\n",
            "           <nav aria-label=\"Table of contents\" class=\"md-nav md-nav--secondary\">\n",
            "            <label class=\"md-nav__title\" for=\"__toc\">\n",
            "             <span class=\"md-nav__icon md-icon\">\n",
            "             </span>\n",
            "             Table of contents\n",
            "            </label>\n",
            "            <ul class=\"md-nav__list\" data-md-component=\"toc\" data-md-scrollfix=\"\">\n",
            "             <li class=\"md-nav__item\">\n",
            "              <a class=\"md-nav__link\" href=\"#helpful-links\">\n",
            "               Helpful Links\n",
            "              </a>\n",
            "             </li>\n",
            "             <li class=\"md-nav__item\">\n",
            "              <a class=\"md-nav__link\" href=\"#troubleshooting\">\n",
            "               Troubleshooting?\n",
            "              </a>\n",
            "             </li>\n",
            "            </ul>\n",
            "           </nav>\n",
            "          </li>\n",
            "          <li class=\"md-nav__item\">\n",
            "           <a class=\"md-nav__link\" href=\"about_us/\">\n",
            "            About Us\n",
            "           </a>\n",
            "          </li>\n",
            "          <li class=\"md-nav__item\">\n",
            "           <a class=\"md-nav__link\" href=\"how_to_guides/\">\n",
            "            \"How to\" Guides\n",
            "           </a>\n",
            "          </li>\n",
            "          <li class=\"md-nav__item\">\n",
            "           <a class=\"md-nav__link\" href=\"terminology/terminology/\">\n",
            "            Terminology\n",
            "           </a>\n",
            "          </li>\n",
            "          <li class=\"md-nav__item\">\n",
            "           <a class=\"md-nav__link\" href=\"roadmap/roadmap/\">\n",
            "            Roadmap\n",
            "           </a>\n",
            "          </li>\n",
            "          <li class=\"md-nav__item\">\n",
            "           <a class=\"md-nav__link\" href=\"privacy_policy/\">\n",
            "            Privacy Policy\n",
            "           </a>\n",
            "          </li>\n",
            "         </ul>\n",
            "        </nav>\n",
            "       </div>\n",
            "      </div>\n",
            "     </div>\n",
            "     <div class=\"md-sidebar md-sidebar--secondary\" data-md-component=\"sidebar\" data-md-type=\"toc\">\n",
            "      <div class=\"md-sidebar__scrollwrap\">\n",
            "       <div class=\"md-sidebar__inner\">\n",
            "        <nav aria-label=\"Table of contents\" class=\"md-nav md-nav--secondary\">\n",
            "         <label class=\"md-nav__title\" for=\"__toc\">\n",
            "          <span class=\"md-nav__icon md-icon\">\n",
            "          </span>\n",
            "          Table of contents\n",
            "         </label>\n",
            "         <ul class=\"md-nav__list\" data-md-component=\"toc\" data-md-scrollfix=\"\">\n",
            "          <li class=\"md-nav__item\">\n",
            "           <a class=\"md-nav__link\" href=\"#helpful-links\">\n",
            "            Helpful Links\n",
            "           </a>\n",
            "          </li>\n",
            "          <li class=\"md-nav__item\">\n",
            "           <a class=\"md-nav__link\" href=\"#troubleshooting\">\n",
            "            Troubleshooting?\n",
            "           </a>\n",
            "          </li>\n",
            "         </ul>\n",
            "        </nav>\n",
            "       </div>\n",
            "      </div>\n",
            "     </div>\n",
            "     <div class=\"md-content\" data-md-component=\"content\">\n",
            "      <article class=\"md-content__inner md-typeset\">\n",
            "       <div>\n",
            "        <h1 id=\"welcome-skele-friend\">\n",
            "         Welcome Skele-Friend! 💀✨\n",
            "         <a class=\"headerlink\" href=\"#welcome-skele-friend\" title=\"Permanent link\">\n",
            "          ¶\n",
            "         </a>\n",
            "        </h1>\n",
            "        <p>\n",
            "         This is the official and most up-to-date place to find documentation for FreeMoCap. We're slowly building a Knowledge Base that roughly follows the\n",
            "         <a href=\"https://diataxis.fr/\">\n",
            "          'diataxis framework'\n",
            "         </a>\n",
            "         . Our documentation is very much a work in progress, so we appreciate your patience, support, and engagement!\n",
            "        </p>\n",
            "        <p>\n",
            "         If you're looking for a quick start, head on over to our\n",
            "         <a href=\"how_to_guides/\">\n",
            "          \"How to\" Guides\n",
            "         </a>\n",
            "         page!\n",
            "        </p>\n",
            "        <details class=\"info\">\n",
            "         <summary>\n",
            "          These docs are a work in progress! Better tutorials/walkthroughs/etc coming soon!\n",
            "         </summary>\n",
            "         <p>\n",
            "          We are very close to out\n",
            "          <code>\n",
            "           v0.1.0\n",
            "          </code>\n",
            "          release, and there will be a new round of tutorials/walk-throughs/etc released around then.\n",
            "         </p>\n",
            "         <p>\n",
            "          In the mean time, check out\n",
            "          <a href=\"https://youtu.be/GxKmyKdnTy0\">\n",
            "           this (rough) video\n",
            "          </a>\n",
            "          which  provides a broad overview of some of the topics relevant to camera-based markerless motion capture (\n",
            "          <em>\n",
            "           HINT - Look at the video chapters for specific topics.\n",
            "          </em>\n",
            "          )\n",
            "         </p>\n",
            "        </details>\n",
            "        <h2 id=\"helpful-links\">\n",
            "         Helpful Links\n",
            "         <a class=\"headerlink\" href=\"#helpful-links\" title=\"Permanent link\">\n",
            "          ¶\n",
            "         </a>\n",
            "        </h2>\n",
            "        <ul>\n",
            "         <li>\n",
            "          The FreeMoCap Website\n",
            "          <a href=\"https://freemocap.org\">\n",
            "           https://freemocap.org\n",
            "          </a>\n",
            "         </li>\n",
            "         <li>\n",
            "          The FreeMoCap GitHub\n",
            "          <a href=\"https://github.com/freemocap/freemocap\">\n",
            "           https://github.com/freemocap/freemocap\n",
            "          </a>\n",
            "         </li>\n",
            "         <li>\n",
            "          Support FreeMoCap by\n",
            "          <a href=\"https://freemocap.org/about-us.html#donate\">\n",
            "           donating to our non-profit\n",
            "          </a>\n",
            "          that supports our work!\n",
            "         </li>\n",
            "        </ul>\n",
            "        <h2 id=\"troubleshooting\">\n",
            "         Troubleshooting?\n",
            "         <a class=\"headerlink\" href=\"#troubleshooting\" title=\"Permanent link\">\n",
            "          ¶\n",
            "         </a>\n",
            "        </h2>\n",
            "        <ul>\n",
            "         <li>\n",
            "          If you run into an issue using the software itself, post an issue on our GitHub, here:\n",
            "          <a href=\"https://github.com/freemocap/freemocap/issues\">\n",
            "           https://github.com/freemocap/freemocap/issues\n",
            "          </a>\n",
            "         </li>\n",
            "         <li>\n",
            "          <p>\n",
            "           If there's an error in our documentation, post an issue on our documentation repository, here:\n",
            "           <a href=\"https://github.com/freemocap/documentation/issues\">\n",
            "            https://github.com/freemocap/documentation/issues\n",
            "           </a>\n",
            "          </p>\n",
            "         </li>\n",
            "         <li>\n",
            "          <p>\n",
            "           Join the Discord and ask a question in the #help-requests channel.\n",
            "          </p>\n",
            "          <ul>\n",
            "           <li>\n",
            "            <a href=\"https://discord.gg/P2nyraRYjb\">\n",
            "             Click here to join our Discord\n",
            "            </a>\n",
            "           </li>\n",
            "          </ul>\n",
            "         </li>\n",
            "        </ul>\n",
            "       </div>\n",
            "      </article>\n",
            "     </div>\n",
            "    </div>\n",
            "   </main>\n",
            "   <footer class=\"md-footer\">\n",
            "    <div class=\"md-footer-meta md-typeset\">\n",
            "     <div class=\"md-footer-meta__inner md-grid\">\n",
            "      <div class=\"md-copyright\">\n",
            "       Made with\n",
            "       <a href=\"https://squidfunk.github.io/mkdocs-material/\" rel=\"noopener\" target=\"_blank\">\n",
            "        Material for MkDocs\n",
            "       </a>\n",
            "      </div>\n",
            "      <div class=\"md-social\">\n",
            "       <a class=\"md-social__link\" href=\"https://twitter.com/freemocap\" rel=\"noopener\" target=\"_blank\" title=\"twitter.com\">\n",
            "        <svg viewbox=\"0 0 512 512\" xmlns=\"http://www.w3.org/2000/svg\">\n",
            "         <!--! Font Awesome Free 6.3.0 by @fontawesome - https://fontawesome.com License - https://fontawesome.com/license/free (Icons: CC BY 4.0, Fonts: SIL OFL 1.1, Code: MIT License) Copyright 2023 Fonticons, Inc.-->\n",
            "         <path d=\"M459.37 151.716c.325 4.548.325 9.097.325 13.645 0 138.72-105.583 298.558-298.558 298.558-59.452 0-114.68-17.219-161.137-47.106 8.447.974 16.568 1.299 25.34 1.299 49.055 0 94.213-16.568 130.274-44.832-46.132-.975-84.792-31.188-98.112-72.772 6.498.974 12.995 1.624 19.818 1.624 9.421 0 18.843-1.3 27.614-3.573-48.081-9.747-84.143-51.98-84.143-102.985v-1.299c13.969 7.797 30.214 12.67 47.431 13.319-28.264-18.843-46.781-51.005-46.781-87.391 0-19.492 5.197-37.36 14.294-52.954 51.655 63.675 129.3 105.258 216.365 109.807-1.624-7.797-2.599-15.918-2.599-24.04 0-57.828 46.782-104.934 104.934-104.934 30.213 0 57.502 12.67 76.67 33.137 23.715-4.548 46.456-13.32 66.599-25.34-7.798 24.366-24.366 44.833-46.132 57.827 21.117-2.273 41.584-8.122 60.426-16.243-14.292 20.791-32.161 39.308-52.628 54.253z\">\n",
            "         </path>\n",
            "        </svg>\n",
            "       </a>\n",
            "       <a class=\"md-social__link\" href=\"https://github.com/freemocap/freemocap\" rel=\"noopener\" target=\"_blank\" title=\"github.com\">\n",
            "        <svg viewbox=\"0 0 496 512\" xmlns=\"http://www.w3.org/2000/svg\">\n",
            "         <!--! Font Awesome Free 6.3.0 by @fontawesome - https://fontawesome.com License - https://fontawesome.com/license/free (Icons: CC BY 4.0, Fonts: SIL OFL 1.1, Code: MIT License) Copyright 2023 Fonticons, Inc.-->\n",
            "         <path d=\"M165.9 397.4c0 2-2.3 3.6-5.2 3.6-3.3.3-5.6-1.3-5.6-3.6 0-2 2.3-3.6 5.2-3.6 3-.3 5.6 1.3 5.6 3.6zm-31.1-4.5c-.7 2 1.3 4.3 4.3 4.9 2.6 1 5.6 0 6.2-2s-1.3-4.3-4.3-5.2c-2.6-.7-5.5.3-6.2 2.3zm44.2-1.7c-2.9.7-4.9 2.6-4.6 4.9.3 2 2.9 3.3 5.9 2.6 2.9-.7 4.9-2.6 4.6-4.6-.3-1.9-3-3.2-5.9-2.9zM244.8 8C106.1 8 0 113.3 0 252c0 110.9 69.8 205.8 169.5 239.2 12.8 2.3 17.3-5.6 17.3-12.1 0-6.2-.3-40.4-.3-61.4 0 0-70 15-84.7-29.8 0 0-11.4-29.1-27.8-36.6 0 0-22.9-15.7 1.6-15.4 0 0 24.9 2 38.6 25.8 21.9 38.6 58.6 27.5 72.9 20.9 2.3-16 8.8-27.1 16-33.7-55.9-6.2-112.3-14.3-112.3-110.5 0-27.5 7.6-41.3 23.6-58.9-2.6-6.5-11.1-33.3 2.6-67.9 20.9-6.5 69 27 69 27 20-5.6 41.5-8.5 62.8-8.5s42.8 2.9 62.8 8.5c0 0 48.1-33.6 69-27 13.7 34.7 5.2 61.4 2.6 67.9 16 17.7 25.8 31.5 25.8 58.9 0 96.5-58.9 104.2-114.8 110.5 9.2 7.9 17 22.9 17 46.4 0 33.7-.3 75.4-.3 83.6 0 6.5 4.6 14.4 17.3 12.1C428.2 457.8 496 362.9 496 252 496 113.3 383.5 8 244.8 8zM97.2 352.9c-1.3 1-1 3.3.7 5.2 1.6 1.6 3.9 2.3 5.2 1 1.3-1 1-3.3-.7-5.2-1.6-1.6-3.9-2.3-5.2-1zm-10.8-8.1c-.7 1.3.3 2.9 2.3 3.9 1.6 1 3.6.7 4.3-.7.7-1.3-.3-2.9-2.3-3.9-2-.6-3.6-.3-4.3.7zm32.4 35.6c-1.6 1.3-1 4.3 1.3 6.2 2.3 2.3 5.2 2.6 6.5 1 1.3-1.3.7-4.3-1.3-6.2-2.2-2.3-5.2-2.6-6.5-1zm-11.4-14.7c-1.6 1-1.6 3.6 0 5.9 1.6 2.3 4.3 3.3 5.6 2.3 1.6-1.3 1.6-3.9 0-6.2-1.4-2.3-4-3.3-5.6-2z\">\n",
            "         </path>\n",
            "        </svg>\n",
            "       </a>\n",
            "       <a class=\"md-social__link\" href=\"https://discord.gg/SgdnzbHDTG\" rel=\"noopener\" target=\"_blank\" title=\"discord.gg\">\n",
            "        <svg viewbox=\"0 0 640 512\" xmlns=\"http://www.w3.org/2000/svg\">\n",
            "         <!--! Font Awesome Free 6.3.0 by @fontawesome - https://fontawesome.com License - https://fontawesome.com/license/free (Icons: CC BY 4.0, Fonts: SIL OFL 1.1, Code: MIT License) Copyright 2023 Fonticons, Inc.-->\n",
            "         <path d=\"M524.531 69.836a1.5 1.5 0 0 0-.764-.7A485.065 485.065 0 0 0 404.081 32.03a1.816 1.816 0 0 0-1.923.91 337.461 337.461 0 0 0-14.9 30.6 447.848 447.848 0 0 0-134.426 0 309.541 309.541 0 0 0-15.135-30.6 1.89 1.89 0 0 0-1.924-.91 483.689 483.689 0 0 0-119.688 37.107 1.712 1.712 0 0 0-.788.676C39.068 183.651 18.186 294.69 28.43 404.354a2.016 2.016 0 0 0 .765 1.375 487.666 487.666 0 0 0 146.825 74.189 1.9 1.9 0 0 0 2.063-.676A348.2 348.2 0 0 0 208.12 430.4a1.86 1.86 0 0 0-1.019-2.588 321.173 321.173 0 0 1-45.868-21.853 1.885 1.885 0 0 1-.185-3.126 251.047 251.047 0 0 0 9.109-7.137 1.819 1.819 0 0 1 1.9-.256c96.229 43.917 200.41 43.917 295.5 0a1.812 1.812 0 0 1 1.924.233 234.533 234.533 0 0 0 9.132 7.16 1.884 1.884 0 0 1-.162 3.126 301.407 301.407 0 0 1-45.89 21.83 1.875 1.875 0 0 0-1 2.611 391.055 391.055 0 0 0 30.014 48.815 1.864 1.864 0 0 0 2.063.7A486.048 486.048 0 0 0 610.7 405.729a1.882 1.882 0 0 0 .765-1.352c12.264-126.783-20.532-236.912-86.934-334.541ZM222.491 337.58c-28.972 0-52.844-26.587-52.844-59.239s23.409-59.241 52.844-59.241c29.665 0 53.306 26.82 52.843 59.239 0 32.654-23.41 59.241-52.843 59.241Zm195.38 0c-28.971 0-52.843-26.587-52.843-59.239s23.409-59.241 52.843-59.241c29.667 0 53.307 26.82 52.844 59.239 0 32.654-23.177 59.241-52.844 59.241Z\">\n",
            "         </path>\n",
            "        </svg>\n",
            "       </a>\n",
            "       <a class=\"md-social__link\" href=\"https://twitch.tv/freemocap\" rel=\"noopener\" target=\"_blank\" title=\"twitch.tv\">\n",
            "        <svg viewbox=\"0 0 512 512\" xmlns=\"http://www.w3.org/2000/svg\">\n",
            "         <!--! Font Awesome Free 6.3.0 by @fontawesome - https://fontawesome.com License - https://fontawesome.com/license/free (Icons: CC BY 4.0, Fonts: SIL OFL 1.1, Code: MIT License) Copyright 2023 Fonticons, Inc.-->\n",
            "         <path d=\"M391.17 103.47h-38.63v109.7h38.63ZM285 103h-38.63v109.75H285ZM120.83 0 24.31 91.42v329.16h115.83V512l96.53-91.42h77.25L487.69 256V0Zm328.24 237.75-77.22 73.12h-77.24l-67.6 64v-64h-86.87V36.58h308.93Z\">\n",
            "         </path>\n",
            "        </svg>\n",
            "       </a>\n",
            "       <a class=\"md-social__link\" href=\"https://www.youtube.com/c/jonmatthis\" rel=\"noopener\" target=\"_blank\" title=\"www.youtube.com\">\n",
            "        <svg viewbox=\"0 0 576 512\" xmlns=\"http://www.w3.org/2000/svg\">\n",
            "         <!--! Font Awesome Free 6.3.0 by @fontawesome - https://fontawesome.com License - https://fontawesome.com/license/free (Icons: CC BY 4.0, Fonts: SIL OFL 1.1, Code: MIT License) Copyright 2023 Fonticons, Inc.-->\n",
            "         <path d=\"M549.655 124.083c-6.281-23.65-24.787-42.276-48.284-48.597C458.781 64 288 64 288 64S117.22 64 74.629 75.486c-23.497 6.322-42.003 24.947-48.284 48.597-11.412 42.867-11.412 132.305-11.412 132.305s0 89.438 11.412 132.305c6.281 23.65 24.787 41.5 48.284 47.821C117.22 448 288 448 288 448s170.78 0 213.371-11.486c23.497-6.321 42.003-24.171 48.284-47.821 11.412-42.867 11.412-132.305 11.412-132.305s0-89.438-11.412-132.305zm-317.51 213.508V175.185l142.739 81.205-142.739 81.201z\">\n",
            "         </path>\n",
            "        </svg>\n",
            "       </a>\n",
            "      </div>\n",
            "     </div>\n",
            "    </div>\n",
            "   </footer>\n",
            "  </div>\n",
            "  <div class=\"md-dialog\" data-md-component=\"dialog\">\n",
            "   <div class=\"md-dialog__inner md-typeset\">\n",
            "   </div>\n",
            "  </div>\n",
            "  <script id=\"__config\" type=\"application/json\">\n",
            "   {\"base\": \".\", \"features\": [\"navigation.tabs\", \"navigation.instant\", \"navigation.tracking\", \"navigation.sections\", \"navigation.expand\"], \"search\": \"assets/javascripts/workers/search.208ed371.min.js\", \"translations\": {\"clipboard.copied\": \"Copied to clipboard\", \"clipboard.copy\": \"Copy to clipboard\", \"search.result.more.one\": \"1 more on this page\", \"search.result.more.other\": \"# more on this page\", \"search.result.none\": \"No matching documents\", \"search.result.one\": \"1 matching document\", \"search.result.other\": \"# matching documents\", \"search.result.placeholder\": \"Type to start searching\", \"search.result.term.missing\": \"Missing\", \"select.version\": \"Select version\"}}\n",
            "  </script>\n",
            "  <script src=\"assets/javascripts/bundle.407015b8.min.js\">\n",
            "  </script>\n",
            "  <script src=\"readthedocs-data.js\">\n",
            "  </script>\n",
            "  <script src=\"/_/static/core/js/readthedocs-doc-embed.js\">\n",
            "  </script>\n",
            "  <script src=\"/_/static/javascript/readthedocs-analytics.js\">\n",
            "  </script>\n",
            " </body>\n",
            "</html>\n",
            "\n"
          ]
        }
      ],
      "source": [
        "soup = BeautifulSoup(response.text, 'html.parser')\n",
        "\n",
        "print(soup.prettify())"
      ]
    },
    {
      "cell_type": "code",
      "execution_count": 11,
      "metadata": {
        "id": "md0S8TmR6cKK"
      },
      "outputs": [
        {
          "data": {
            "text/plain": [
              "[{'href': '#welcome-skele-friend', 'class': ['md-skip']},\n",
              " {'href': '.',\n",
              "  'title': 'FreeMoCap Documentation',\n",
              "  'class': ['md-header__button', 'md-logo'],\n",
              "  'aria-label': 'FreeMoCap Documentation',\n",
              "  'data-md-component': 'logo'},\n",
              " {'href': '.', 'class': ['md-tabs__link', 'md-tabs__link--active']},\n",
              " {'href': 'about_us/', 'class': ['md-tabs__link']},\n",
              " {'href': 'how_to_guides/', 'class': ['md-tabs__link']},\n",
              " {'href': 'terminology/terminology/', 'class': ['md-tabs__link']},\n",
              " {'href': 'roadmap/roadmap/', 'class': ['md-tabs__link']},\n",
              " {'href': 'privacy_policy/', 'class': ['md-tabs__link']},\n",
              " {'href': '.',\n",
              "  'title': 'FreeMoCap Documentation',\n",
              "  'class': ['md-nav__button', 'md-logo'],\n",
              "  'aria-label': 'FreeMoCap Documentation',\n",
              "  'data-md-component': 'logo'},\n",
              " {'href': '.', 'class': ['md-nav__link', 'md-nav__link--active']},\n",
              " {'href': '#helpful-links', 'class': ['md-nav__link']},\n",
              " {'href': '#troubleshooting', 'class': ['md-nav__link']},\n",
              " {'href': 'about_us/', 'class': ['md-nav__link']},\n",
              " {'href': 'how_to_guides/', 'class': ['md-nav__link']},\n",
              " {'href': 'terminology/terminology/', 'class': ['md-nav__link']},\n",
              " {'href': 'roadmap/roadmap/', 'class': ['md-nav__link']},\n",
              " {'href': 'privacy_policy/', 'class': ['md-nav__link']},\n",
              " {'href': '#helpful-links', 'class': ['md-nav__link']},\n",
              " {'href': '#troubleshooting', 'class': ['md-nav__link']},\n",
              " {'class': ['headerlink'],\n",
              "  'href': '#welcome-skele-friend',\n",
              "  'title': 'Permanent link'},\n",
              " {'href': 'https://diataxis.fr/'},\n",
              " {'href': 'how_to_guides/'},\n",
              " {'href': 'https://youtu.be/GxKmyKdnTy0'},\n",
              " {'class': ['headerlink'],\n",
              "  'href': '#helpful-links',\n",
              "  'title': 'Permanent link'},\n",
              " {'href': 'https://freemocap.org'},\n",
              " {'href': 'https://github.com/freemocap/freemocap'},\n",
              " {'href': 'https://freemocap.org/about-us.html#donate'},\n",
              " {'class': ['headerlink'],\n",
              "  'href': '#troubleshooting',\n",
              "  'title': 'Permanent link'},\n",
              " {'href': 'https://github.com/freemocap/freemocap/issues'},\n",
              " {'href': 'https://github.com/freemocap/documentation/issues'},\n",
              " {'href': 'https://discord.gg/P2nyraRYjb'},\n",
              " {'href': 'https://squidfunk.github.io/mkdocs-material/',\n",
              "  'target': '_blank',\n",
              "  'rel': ['noopener']},\n",
              " {'href': 'https://twitter.com/freemocap',\n",
              "  'target': '_blank',\n",
              "  'rel': ['noopener'],\n",
              "  'title': 'twitter.com',\n",
              "  'class': ['md-social__link']},\n",
              " {'href': 'https://github.com/freemocap/freemocap',\n",
              "  'target': '_blank',\n",
              "  'rel': ['noopener'],\n",
              "  'title': 'github.com',\n",
              "  'class': ['md-social__link']},\n",
              " {'href': 'https://discord.gg/SgdnzbHDTG',\n",
              "  'target': '_blank',\n",
              "  'rel': ['noopener'],\n",
              "  'title': 'discord.gg',\n",
              "  'class': ['md-social__link']},\n",
              " {'href': 'https://twitch.tv/freemocap',\n",
              "  'target': '_blank',\n",
              "  'rel': ['noopener'],\n",
              "  'title': 'twitch.tv',\n",
              "  'class': ['md-social__link']},\n",
              " {'href': 'https://www.youtube.com/c/jonmatthis',\n",
              "  'target': '_blank',\n",
              "  'rel': ['noopener'],\n",
              "  'title': 'www.youtube.com',\n",
              "  'class': ['md-social__link']}]"
            ]
          },
          "execution_count": 11,
          "metadata": {},
          "output_type": "execute_result"
        }
      ],
      "source": [
        "anchors_attrs = [anchor.attrs for anchor in soup.find_all('a')]\n",
        "anchors_attrs"
      ]
    },
    {
      "cell_type": "code",
      "execution_count": 12,
      "metadata": {
        "colab": {
          "base_uri": "https://localhost:8080/"
        },
        "id": "BQx7x8ae8Rbh",
        "outputId": "1bd2c105-c582-4a5f-dcde-19da8f717ebd"
      },
      "outputs": [
        {
          "name": "stdout",
          "output_type": "stream",
          "text": [
            "no classes or no href: {'href': 'https://diataxis.fr/'}\n",
            "no classes or no href: {'href': 'how_to_guides/'}\n",
            "no classes or no href: {'href': 'https://youtu.be/GxKmyKdnTy0'}\n",
            "no classes or no href: {'href': 'https://freemocap.org'}\n",
            "no classes or no href: {'href': 'https://github.com/freemocap/freemocap'}\n",
            "no classes or no href: {'href': 'https://freemocap.org/about-us.html#donate'}\n",
            "no classes or no href: {'href': 'https://github.com/freemocap/freemocap/issues'}\n",
            "no classes or no href: {'href': 'https://github.com/freemocap/documentation/issues'}\n",
            "no classes or no href: {'href': 'https://discord.gg/P2nyraRYjb'}\n",
            "no classes or no href: {'href': 'https://squidfunk.github.io/mkdocs-material/', 'target': '_blank', 'rel': ['noopener']}\n"
          ]
        }
      ],
      "source": [
        "paths = []\n",
        "\n",
        "for anchor_attrs in anchors_attrs:\n",
        "    try:\n",
        "        classes = anchor_attrs[\"class\"]\n",
        "        link = anchor_attrs[\"href\"]\n",
        "        if \"reference\" in classes:\n",
        "            if \"internal\" in classes:\n",
        "                paths.append(link)\n",
        "            elif \"external\" in classes:\n",
        "                if link.startswith(\"./\"):\n",
        "                    paths.append(link[len(\"./\"):])\n",
        "                else:\n",
        "                    pass # not a link to docs\n",
        "            else:\n",
        "                pass # i didn't understand that reference\n",
        "        else:\n",
        "            pass # not a reference\n",
        "    except KeyError:\n",
        "       print(\"no classes or no href:\", anchor_attrs)"
      ]
    },
    {
      "cell_type": "code",
      "execution_count": 13,
      "metadata": {
        "colab": {
          "base_uri": "https://localhost:8080/"
        },
        "id": "dOY0zFNm7Cvd",
        "outputId": "2a6fe0b1-3e4b-4cfd-d80d-9732e1c8e534"
      },
      "outputs": [
        {
          "name": "stdout",
          "output_type": "stream",
          "text": [
            "['index.html']\n"
          ]
        }
      ],
      "source": [
        "paths = [\"index.html\"] + paths\n",
        "print(paths)"
      ]
    },
    {
      "cell_type": "code",
      "execution_count": 16,
      "metadata": {
        "colab": {
          "base_uri": "https://localhost:8080/"
        },
        "id": "wOOSGQ0zDBrl",
        "outputId": "8e3c74f3-0ddc-48c2-82d6-af2d06ad41a3"
      },
      "outputs": [
        {
          "name": "stdout",
          "output_type": "stream",
          "text": [
            "CPU times: total: 0 ns\n",
            "Wall time: 51.8 ms\n"
          ]
        }
      ],
      "source": [
        "%%time\n",
        "import requests\n",
        "\n",
        "pages = []\n",
        "\n",
        "for path in paths:\n",
        "    try:\n",
        "        url = \"/\".join([toplevel, path])\n",
        "        resp = requests.get(url)\n",
        "        resp.raise_for_status()\n",
        "    except Exception:\n",
        "        print(url)\n",
        "    finally:\n",
        "        pages.append({\"content\": resp.content, \"url\": url})"
      ]
    },
    {
      "cell_type": "code",
      "execution_count": 18,
      "metadata": {
        "colab": {
          "base_uri": "https://localhost:8080/"
        },
        "id": "5MlKYCrnD7qW",
        "outputId": "7527ac36-b917-421f-fcda-fc7484306029"
      },
      "outputs": [
        {
          "name": "stderr",
          "output_type": "stream",
          "text": [
            "[nltk_data] Downloading package punkt to\n",
            "[nltk_data]     C:\\Users\\jonma\\AppData\\Roaming\\nltk_data...\n",
            "[nltk_data]   Package punkt is already up-to-date!\n",
            "[nltk_data] Downloading package averaged_perceptron_tagger to\n",
            "[nltk_data]     C:\\Users\\jonma\\AppData\\Roaming\\nltk_data...\n",
            "[nltk_data]   Package averaged_perceptron_tagger is already up-to-\n",
            "[nltk_data]       date!\n"
          ]
        },
        {
          "data": {
            "text/plain": [
              "True"
            ]
          },
          "execution_count": 18,
          "metadata": {},
          "output_type": "execute_result"
        }
      ],
      "source": [
        "import nltk\n",
        "nltk.download('punkt')\n",
        "nltk.download('averaged_perceptron_tagger')"
      ]
    },
    {
      "cell_type": "code",
      "execution_count": 19,
      "metadata": {
        "colab": {
          "base_uri": "https://localhost:8080/"
        },
        "id": "-1w873NxDtom",
        "outputId": "a3d8fcdd-d86a-4689-feaa-cb8d4459f00f"
      },
      "outputs": [
        {
          "name": "stdout",
          "output_type": "stream",
          "text": [
            "CPU times: total: 31.2 ms\n",
            "Wall time: 70.3 ms\n"
          ]
        }
      ],
      "source": [
        "%%time\n",
        "from unstructured.partition.html import partition_html\n",
        "\n",
        "parsed_docs = [partition_html(text=page[\"content\"]) for page in pages]"
      ]
    },
    {
      "cell_type": "code",
      "execution_count": 20,
      "metadata": {
        "id": "3C4wqGY7C9xI"
      },
      "outputs": [],
      "source": [
        "texts = []\n",
        "for doc in parsed_docs:\n",
        "    texts.append(\"\\n\\n\".join(\n",
        "        [str(el).strip() for el in doc]).strip().replace(\"\\\\n\", \"\"))"
      ]
    },
    {
      "cell_type": "code",
      "execution_count": 22,
      "metadata": {
        "colab": {
          "base_uri": "https://localhost:8080/"
        },
        "id": "yXFOuHYezLuv",
        "outputId": "58cd27d6-87af-4178-835a-526a0a4b1614"
      },
      "outputs": [
        {
          "name": "stdout",
          "output_type": "stream",
          "text": [
            "Welcome Skele-Friend! \\xf0\\x9f\\x92\\x80\\xe2\\x9c\\xa8\\xc2\\xb6  This is\n",
            "the official and most up-to-date place to find documentation for\n",
            "FreeMoCap. We\\'re slowly building a Knowledge Base that roughly\n",
            "follows the \\'diataxis framework\\'. Our documentation is very much a\n",
            "work in progress, so we appreciate your patience, support, and\n",
            "engagement!  If you\\'re looking for a quick start, head on over to our\n",
            "\"How to\" Guides page!  We are very close to out v0.1.0 release, and\n",
            "there will be a new round of tutorials/walk-throughs/etc released\n",
            "around then.    In the mean time, check out this (rough) video which\n",
            "provides a broad overview of some of the topics relevant to camera-\n",
            "based markerless motion capture ( HINT - Look at the video chapters\n",
            "for specific topics.)  Helpful Links\\xc2\\xb6  The FreeMoCap Website\n",
            "https://freemocap.org  The FreeMoCap GitHub\n",
            "https://github.com/freemocap/freemocap  Support FreeMoCap by donating\n",
            "to our non-profit that supports our work!  Troubleshooting?\\xc2\\xb6\n",
            "If you run into an issue using the software itself, post an issue on\n",
            "our GitHub, here: https://github.com/freemocap/freemocap/issues     If\n",
            "there\\'s an error in our documentation, post an issue on our\n",
            "documentation repository, here:\n",
            "https://github.com/freemocap/documentation/issues  Join the Discord\n",
            "and ask a question in the #help-requests channel.Click here to join\n",
            "our Discord\n"
          ]
        }
      ],
      "source": [
        "print(*textwrap.wrap(texts[0]), sep=\"\\n\")"
      ]
    },
    {
      "cell_type": "code",
      "execution_count": 23,
      "metadata": {
        "id": "sxEf2xCB0RH0"
      },
      "outputs": [],
      "source": [
        "for page, text in zip(pages, texts):\n",
        "    page[\"text\"] = text"
      ]
    },
    {
      "cell_type": "code",
      "execution_count": 24,
      "metadata": {
        "colab": {
          "base_uri": "https://localhost:8080/"
        },
        "id": "YyvmrDrFDVJe",
        "outputId": "1914cc12-ba5f-4a3f-d56f-0a9b460da888"
      },
      "outputs": [
        {
          "data": {
            "text/plain": [
              "dict_keys(['content', 'url', 'text'])"
            ]
          },
          "execution_count": 24,
          "metadata": {},
          "output_type": "execute_result"
        }
      ],
      "source": [
        "pages[0].keys()"
      ]
    },
    {
      "cell_type": "markdown",
      "metadata": {
        "id": "l5umZbOUDfE5"
      },
      "source": [
        "#### Low-key alert: this belongs in a DB"
      ]
    },
    {
      "cell_type": "markdown",
      "metadata": {
        "id": "REz-83aczyuA"
      },
      "source": [
        "### Chunk the text for use inside LLM prompts"
      ]
    },
    {
      "cell_type": "code",
      "execution_count": 25,
      "metadata": {
        "id": "aEc551WyI5d4"
      },
      "outputs": [],
      "source": [
        "from langchain.text_splitter import CharacterTextSplitter"
      ]
    },
    {
      "cell_type": "code",
      "execution_count": 26,
      "metadata": {
        "id": "mtZZ8pwDI3h-"
      },
      "outputs": [],
      "source": [
        "text_splitter = CharacterTextSplitter.from_tiktoken_encoder(\n",
        "    chunk_size=1024, chunk_overlap=128, separator=\" \")"
      ]
    },
    {
      "cell_type": "code",
      "execution_count": 27,
      "metadata": {
        "id": "E2Hu2oYNHaUp"
      },
      "outputs": [
        {
          "data": {
            "text/plain": [
              "{'page_content': 'Welcome Skele-Friend! \\\\xf0\\\\x9f\\\\x92\\\\x80\\\\xe2\\\\x9c\\\\xa8\\\\xc2\\\\xb6\\n\\nThis is the official and most up-to-date place to find documentation for FreeMoCap. We\\\\\\'re slowly building a Knowledge Base that roughly follows the \\\\\\'diataxis framework\\\\\\'. Our documentation is very much a work in progress, so we appreciate your patience, support, and engagement!\\n\\nIf you\\\\\\'re looking for a quick start, head on over to our \"How to\" Guides page!\\n\\nWe are very close to out v0.1.0 release, and there will be a new round of tutorials/walk-throughs/etc released around then.  \\n\\nIn the mean time, check out this (rough) video which  provides a broad overview of some of the topics relevant to camera-based markerless motion capture ( HINT - Look at the video chapters for specific topics.)\\n\\nHelpful Links\\\\xc2\\\\xb6\\n\\nThe FreeMoCap Website https://freemocap.org\\n\\nThe FreeMoCap GitHub https://github.com/freemocap/freemocap\\n\\nSupport FreeMoCap by donating to our non-profit that supports our work!\\n\\nTroubleshooting?\\\\xc2\\\\xb6\\n\\nIf you run into an issue using the software itself, post an issue on our GitHub, here: https://github.com/freemocap/freemocap/issues   \\n\\nIf there\\\\\\'s an error in our documentation, post an issue on our documentation repository, here: https://github.com/freemocap/documentation/issues\\n\\nJoin the Discord and ask a question in the #help-requests channel.Click here to join our Discord',\n",
              " 'metadata': {'source': 'https://freemocap.readthedocs.io/en/latest/index.html'}}"
            ]
          },
          "execution_count": 27,
          "metadata": {},
          "output_type": "execute_result"
        }
      ],
      "source": [
        "documents = text_splitter.create_documents(\n",
        "    [page[\"text\"] for page in pages], metadatas=[{\"source\": page[\"url\"]} for page in pages])\n",
        "\n",
        "documents[0].dict()\n"
      ]
    },
    {
      "cell_type": "code",
      "execution_count": 28,
      "metadata": {
        "colab": {
          "base_uri": "https://localhost:8080/"
        },
        "id": "I6ALdCQd02fF",
        "outputId": "df2769ca-39db-4433-a9e5-5cfb1084966e"
      },
      "outputs": [
        {
          "name": "stdout",
          "output_type": "stream",
          "text": [
            "https://freemocap.readthedocs.io/en/latest/index.html\n",
            "Welcome Skele-Friend! \\xf0\\x9f\\x92\\x80\\xe2\\x9c\\xa8\\xc2\\xb6  This is\n",
            "the official and most up-to-date place to find documentation for\n",
            "FreeMoCap. We\\'re slowly building a Knowledge Base that roughly\n",
            "follows the \\'diataxis framework\\'. Our documentation is very much a\n",
            "work in progress, so we appreciate your patience, support, and\n",
            "engagement!  If you\\'re looking for a quick start, head on over to our\n",
            "\"How to\" Guides page!  We are very close to out v0.1.0 release, and\n",
            "there will be a new round of tutorials/walk-throughs/etc released\n",
            "around then.    In the mean time, check out this (rough) video which\n",
            "provides a broad overview of some of the topics relevant to camera-\n",
            "based markerless motion capture ( HINT - Look at the video chapters\n",
            "for specific topics.)  Helpful Links\\xc2\\xb6  The FreeMoCap Website\n",
            "https://freemocap.org  The FreeMoCap GitHub\n",
            "https://github.com/freemocap/freemocap  Support FreeMoCap by donating\n",
            "to our non-profit that supports our work!  Troubleshooting?\\xc2\\xb6\n",
            "If you run into an issue using the software itself, post an issue on\n",
            "our GitHub, here: https://github.com/freemocap/freemocap/issues     If\n",
            "there\\'s an error in our documentation, post an issue on our\n",
            "documentation repository, here:\n",
            "https://github.com/freemocap/documentation/issues  Join the Discord\n",
            "and ask a question in the #help-requests channel.Click here to join\n",
            "our Discord\n"
          ]
        }
      ],
      "source": [
        "print(documents[0].metadata[\"source\"], *textwrap.wrap(documents[0].page_content), sep=\"\\n\")"
      ]
    },
    {
      "cell_type": "markdown",
      "metadata": {
        "id": "XlaqEto_0nFV"
      },
      "source": [
        "### Enable search over text chunks"
      ]
    },
    {
      "cell_type": "markdown",
      "metadata": {
        "id": "RjAtCKxvAkqT"
      },
      "source": [
        "#### Here, using embeddings and vector search"
      ]
    },
    {
      "cell_type": "code",
      "execution_count": 29,
      "metadata": {
        "id": "W6QN_ovB0vby"
      },
      "outputs": [],
      "source": [
        "from langchain.embeddings.openai import OpenAIEmbeddings\n",
        "\n",
        "embeddings = OpenAIEmbeddings()"
      ]
    },
    {
      "cell_type": "code",
      "execution_count": 30,
      "metadata": {
        "id": "9scp87XTHp1r"
      },
      "outputs": [],
      "source": [
        "from langchain.vectorstores import FAISS\n",
        "\n",
        "docsearch = FAISS.from_documents(documents, embeddings)"
      ]
    },
    {
      "cell_type": "markdown",
      "metadata": {
        "id": "V3xX9KUF1KxG"
      },
      "source": [
        "### Ask questions and get answers"
      ]
    },
    {
      "cell_type": "code",
      "execution_count": 31,
      "metadata": {
        "id": "hiuGx6cqH8cd"
      },
      "outputs": [],
      "source": [
        "from langchain.chains.qa_with_sources import load_qa_with_sources_chain\n",
        "\n",
        "\n",
        "chain = load_qa_with_sources_chain(llm, chain_type=\"stuff\")"
      ]
    },
    {
      "cell_type": "code",
      "execution_count": 32,
      "metadata": {
        "colab": {
          "base_uri": "https://localhost:8080/"
        },
        "id": "Wu96kQNy1SFi",
        "outputId": "cb00330f-be19-4646-8c48-a862ee8d4f51"
      },
      "outputs": [
        {
          "name": "stdout",
          "output_type": "stream",
          "text": [
            "FreeMoCap is an open-source markerless motion capture system. It does\n",
            "not mention realtime capacity in the provided content. The creators\n",
            "can be found on the FreeMoCap GitHub page\n",
            "(https://github.com/freemocap/freemocap). A charuco board is not\n",
            "mentioned in the provided content.\n",
            "\n",
            "SOURCES:\n",
            "https://freemocap.readthedocs.io/en/latest/index.html\n"
          ]
        }
      ],
      "source": [
        "query = \"What is FreeMoCap? Does it have realtime capacity? Who made it? What is a charuco board?\"\n",
        "# query = \"What is LangChainHub?\"\n",
        "# query = \"Does LangChain integrate with OpenAI? If so, how?\"\n",
        "\n",
        "docs = docsearch.similarity_search(query)\n",
        "result = chain({\"input_documents\": docs, \"question\": query})\n",
        "\n",
        "text = \"\\n\".join(textwrap.wrap(result[\"output_text\"]))\n",
        "text = \"\\n\\nSOURCES:\\n\".join(map(lambda s: s.strip(), text.split(\"SOURCES:\")))\n",
        "\n",
        "print(text)"
      ]
    },
    {
      "cell_type": "code",
      "execution_count": null,
      "metadata": {
        "colab": {
          "base_uri": "https://localhost:8080/"
        },
        "id": "g7ca9p3o2Cqz",
        "outputId": "0620b36d-e2b2-4db2-8330-03f97d8ff434"
      },
      "outputs": [],
      "source": [
        "print(*textwrap.wrap(result[\"input_documents\"][0].page_content), sep=\"\\n\")"
      ]
    }
  ],
  "metadata": {
    "colab": {
      "provenance": []
    },
    "gpuClass": "standard",
    "kernelspec": {
      "display_name": "Python 3",
      "name": "python3"
    },
    "language_info": {
      "codemirror_mode": {
        "name": "ipython",
        "version": 3
      },
      "file_extension": ".py",
      "mimetype": "text/x-python",
      "name": "python",
      "nbconvert_exporter": "python",
      "pygments_lexer": "ipython3",
      "version": "3.11.2"
    }
  },
  "nbformat": 4,
  "nbformat_minor": 0
}
